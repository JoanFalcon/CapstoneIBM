{
 "cells": [
  {
   "cell_type": "code",
   "execution_count": 1,
   "metadata": {},
   "outputs": [],
   "source": [
    "#pip install python-docx"
   ]
  },
  {
   "cell_type": "code",
   "execution_count": null,
   "metadata": {},
   "outputs": [],
   "source": []
  },
  {
   "cell_type": "code",
   "execution_count": 1,
   "metadata": {},
   "outputs": [],
   "source": [
    "from docx import Document\n",
    "from docx.enum.text import WD_ALIGN_PARAGRAPH"
   ]
  },
  {
   "cell_type": "code",
   "execution_count": 2,
   "metadata": {},
   "outputs": [],
   "source": [
    "titulo={\"Sr\":\"Señor\",\"Sra\":\"Señora\"}\n",
    "nombres_dirigido=\"Joan José\"\n",
    "apellidos_dirigidos=\"Monegro Medina\"\n",
    "institucion_dirigida=\"Banco de Reservas\"\n",
    "empresa_solicitante=\"iMoney\""
   ]
  },
  {
   "cell_type": "code",
   "execution_count": 3,
   "metadata": {},
   "outputs": [],
   "source": [
    "carta_patrocinio=Document()"
   ]
  },
  {
   "cell_type": "code",
   "execution_count": 4,
   "metadata": {},
   "outputs": [],
   "source": [
    "texto=\"Reciba un saludo amistoso. Con la presente tenemos a bien presentarle el programa \"+\"IMONEY\"+\", un espacio radial con entrevistas, informes, encuestas, interacciones directas con el público, que busca educar a sus oyentes sobre aspectos de finanzas personales, inversiones y emprendimiento.\\nEl programa \" +\"IMONEY\" + \"se transmite por la estación radial Súper 7, en la frecuencia FM 107.7, de lunes a viernes a las 10 de la mañana.\\n El acuerdo publicitario que solicitamos suscribir con ustedes es el siguiente:\\n Un comercial en cada entrega del programa: de lunes a viernes, en total 5 semanales.\\nAporte a realizar por el paquete publicitario RD$100,000.00 mensuales más impuestos.\\nAnexo documentos requeridos para fines de elaboración del contrato.\\nAtentamente,\\nJoan Monegro\\nProductor Ejecutivo\""
   ]
  },
  {
   "cell_type": "code",
   "execution_count": null,
   "metadata": {},
   "outputs": [],
   "source": [
    "primer_parrafo=\"Reciba un saludo amistoso. Con la presente tenemos a bien presentarle el programa \"+\"IMONEY\"+\", un espacio radial con entrevistas, informes, encuestas, interacciones directas con el público, que busca educar a sus oyentes sobre aspectos de finanzas personales, inversiones y emprendimiento.\"\n",
    "segundo_parrafo=\"El programa \" +\"IMONEY\" + \"se transmite por la estación radial Súper 7, en la frecuencia FM 107.7, de lunes a viernes a las 10 de la mañana.\"\n",
    "tercer_parrafo=\"El acuerdo publicitario que solicitamos suscribir con ustedes es el siguiente\"\n",
    "cuarto_parrafo=\"Un comercial en cada entrega del programa: de lunes a viernes, en total 5 semanales.\"\n",
    "quinto_parrafo=\"Aporte a realizar por el paquete publicitario RD$100,000.00 mensuales más impuestos.\""
   ]
  },
  {
   "cell_type": "code",
   "execution_count": 13,
   "metadata": {},
   "outputs": [],
   "source": [
    "\n",
    "carta_patrocinio.add_paragraph(texto).alignment=WD_ALIGN_PARAGRAPH.THAI_JUSTIFY\n",
    "carta_patrocinio.save(\"documento.docx\")"
   ]
  }
 ],
 "metadata": {
  "kernelspec": {
   "display_name": "Python 3",
   "language": "python",
   "name": "python3"
  },
  "language_info": {
   "codemirror_mode": {
    "name": "ipython",
    "version": 3
   },
   "file_extension": ".py",
   "mimetype": "text/x-python",
   "name": "python",
   "nbconvert_exporter": "python",
   "pygments_lexer": "ipython3",
   "version": "3.8.5"
  }
 },
 "nbformat": 4,
 "nbformat_minor": 4
}
